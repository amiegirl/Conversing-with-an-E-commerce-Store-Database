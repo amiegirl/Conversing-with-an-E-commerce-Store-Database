{
 "cells": [
  {
   "cell_type": "code",
   "execution_count": 1,
   "metadata": {},
   "outputs": [],
   "source": [
    "import streamlit as st\n",
    "from langchain_google_genai import ChatGoogleGenerativeAI\n",
    "from langchain_openai import ChatOpenAI\n",
    "from langchain.agents import AgentType, create_sql_agent\n",
    "from langchain.sql_database import SQLDatabase\n",
    "from langchain.agents.agent_toolkits.sql.toolkit import SQLDatabaseToolkit\n",
    "from langchain_core.prompts import PromptTemplate\n",
    "from IPython.display import Markdown as md"
   ]
  },
  {
   "cell_type": "code",
   "execution_count": 2,
   "metadata": {},
   "outputs": [],
   "source": [
    "# Read the API key\n",
    "f = open(\"keys/.gemini_api_key.txt\")\n",
    "key = f.read()"
   ]
  },
  {
   "cell_type": "code",
   "execution_count": 3,
   "metadata": {},
   "outputs": [],
   "source": [
    "#  Setup chat model\n",
    "chat_model = ChatGoogleGenerativeAI(google_api_key=key, model=\"gemini-1.5-pro-latest\")"
   ]
  },
  {
   "cell_type": "code",
   "execution_count": 4,
   "metadata": {},
   "outputs": [
    {
     "name": "stdout",
     "output_type": "stream",
     "text": [
      "sqlite\n",
      "['laptops']\n"
     ]
    },
    {
     "data": {
      "text/plain": [
       "\"[('HP',), ('Lenovo',), ('ASUS',), ('RedmiBook',), ('acer',), ('Infinix',), ('APPLE',), ('DELL',), ('MSI',), ('SAMSUNG',), ('realme',), ('ALIENWARE',), ('GIGABYTE',), ('Avita',), ('Nokia',), ('Vaio',), ('Mi',), ('LG',), ('Ultimus',)]\""
      ]
     },
     "execution_count": 4,
     "metadata": {},
     "output_type": "execute_result"
    }
   ],
   "source": [
    "# connect to our database\n",
    "db = SQLDatabase.from_uri(\"sqlite:///laptops.db\")\n",
    "print(db.dialect)\n",
    "print(db.get_usable_table_names())\n",
    "db.run(\"SELECT DISTINCT brand FROM laptops;\")"
   ]
  },
  {
   "cell_type": "code",
   "execution_count": 5,
   "metadata": {},
   "outputs": [
    {
     "data": {
      "text/plain": [
       "\"[('SSD',), ('HDD',), ('EMMC',)]\""
      ]
     },
     "execution_count": 5,
     "metadata": {},
     "output_type": "execute_result"
    }
   ],
   "source": [
    "db.run(\"SELECT DISTINCT storage FROM laptops;\")"
   ]
  },
  {
   "cell_type": "code",
   "execution_count": 6,
   "metadata": {},
   "outputs": [
    {
     "data": {
      "text/plain": [
       "\"[('DELL', 1174131)]\""
      ]
     },
     "execution_count": 6,
     "metadata": {},
     "output_type": "execute_result"
    }
   ],
   "source": [
    "db.run(\"SELECT brand, max(price) FROM laptops;\")"
   ]
  },
  {
   "cell_type": "code",
   "execution_count": 7,
   "metadata": {},
   "outputs": [
    {
     "data": {
      "text/plain": [
       "'[(68510.26666666666,)]'"
      ]
     },
     "execution_count": 7,
     "metadata": {},
     "output_type": "execute_result"
    }
   ],
   "source": [
    "db.run(\"SELECT AVG(price) FROM laptops WHERE brand = 'Lenovo' AND processor = 'Core i5';\")"
   ]
  },
  {
   "cell_type": "code",
   "execution_count": 8,
   "metadata": {},
   "outputs": [],
   "source": [
    "prompt = PromptTemplate.from_template(\n",
    "    \"\"\"You are a helpful AI assistant expert in querying SQL Database,\n",
    "        The Database has the name laptops\n",
    "        and has the following columns - brand, description, model, price, RAM(GB), storage,\n",
    "        capacity(GB), processor, warranty(years) and display(inch). The price is in Naira.\n",
    "        DO NOT make any DML statements (INSERT, UPDATE, DELETE, DROP etc.) to the database.\n",
    "        if a question does not seem related to the database, the response should be,\n",
    "        \"I may not be able to provide information about this topic\"\n",
    "        Given the following user question, generate corresponding SQL query, and SQL result, \n",
    "        and answer the user question. \n",
    "        Question: {question}\n",
    "        Answer: \n",
    "        \"\"\"\n",
    ")"
   ]
  },
  {
   "cell_type": "code",
   "execution_count": 9,
   "metadata": {},
   "outputs": [],
   "source": [
    "sql_toolkit = SQLDatabaseToolkit(db=db, llm=chat_model)\n",
    "sql_toolkit.get_tools()\n",
    "\n",
    "sqldb_agent = create_sql_agent(\n",
    "    llm=chat_model,\n",
    "    toolkit=sql_toolkit,\n",
    "    agent_type=AgentType.ZERO_SHOT_REACT_DESCRIPTION,\n",
    "    verbose=True\n",
    ")"
   ]
  },
  {
   "cell_type": "code",
   "execution_count": 10,
   "metadata": {},
   "outputs": [
    {
     "name": "stderr",
     "output_type": "stream",
     "text": [
      "c:\\Users\\USER\\Documents\\Data Science and Analytics\\InnomaticsResearchLabs\\langchain_rag\\.langchain_env\\lib\\site-packages\\langchain_core\\_api\\deprecation.py:119: LangChainDeprecationWarning: The method `Chain.run` was deprecated in langchain 0.1.0 and will be removed in 0.2.0. Use invoke instead.\n",
      "  warn_deprecated(\n"
     ]
    },
    {
     "name": "stdout",
     "output_type": "stream",
     "text": [
      "\n",
      "\n",
      "\u001b[1m> Entering new SQL Agent Executor chain...\u001b[0m\n"
     ]
    },
    {
     "name": "stderr",
     "output_type": "stream",
     "text": [
      "Retrying langchain_google_genai.chat_models._chat_with_retry.<locals>._chat_with_retry in 2.0 seconds as it raised ResourceExhausted: 429 Resource has been exhausted (e.g. check quota)..\n",
      "Retrying langchain_google_genai.chat_models._chat_with_retry.<locals>._chat_with_retry in 4.0 seconds as it raised ResourceExhausted: 429 Resource has been exhausted (e.g. check quota)..\n"
     ]
    }
   ],
   "source": [
    "response = sqldb_agent.run(prompt.format(\n",
    "        question=\"what are the available brands?\"\n",
    "  ))\n",
    "response"
   ]
  },
  {
   "cell_type": "code",
   "execution_count": null,
   "metadata": {},
   "outputs": [
    {
     "data": {
      "text/markdown": [
       "The available brands are: HP, Lenovo, ASUS, RedmiBook, acer, Infinix, APPLE, DELL, MSI, SAMSUNG, realme, ALIENWARE, GIGABYTE, Avita, Nokia, Vaio, Mi, LG, Ultimus"
      ],
      "text/plain": [
       "<IPython.core.display.Markdown object>"
      ]
     },
     "execution_count": 11,
     "metadata": {},
     "output_type": "execute_result"
    }
   ],
   "source": [
    "md(response)"
   ]
  },
  {
   "cell_type": "code",
   "execution_count": null,
   "metadata": {},
   "outputs": [
    {
     "name": "stdout",
     "output_type": "stream",
     "text": [
      "\n",
      "\n",
      "\u001b[1m> Entering new SQL Agent Executor chain...\u001b[0m\n",
      "\u001b[32;1m\u001b[1;3mThought: I need to query the database to find the average price of HP laptops with Core i5 processors. \n",
      "Action: sql_db_query_checker\n",
      "Action Input: SELECT AVG(price) FROM laptops WHERE brand = 'HP' AND processor LIKE '%Core i5%' \u001b[0m\u001b[36;1m\u001b[1;3m```sql\n",
      "SELECT AVG(price) FROM laptops WHERE brand = 'HP' AND processor LIKE '%Core i5%'\n",
      "```\u001b[0m"
     ]
    },
    {
     "name": "stderr",
     "output_type": "stream",
     "text": [
      "Retrying langchain_google_genai.chat_models._chat_with_retry.<locals>._chat_with_retry in 2.0 seconds as it raised ResourceExhausted: 429 Resource has been exhausted (e.g. check quota)..\n",
      "Retrying langchain_google_genai.chat_models._chat_with_retry.<locals>._chat_with_retry in 4.0 seconds as it raised ResourceExhausted: 429 Resource has been exhausted (e.g. check quota)..\n",
      "Retrying langchain_google_genai.chat_models._chat_with_retry.<locals>._chat_with_retry in 8.0 seconds as it raised ResourceExhausted: 429 Resource has been exhausted (e.g. check quota)..\n",
      "Retrying langchain_google_genai.chat_models._chat_with_retry.<locals>._chat_with_retry in 16.0 seconds as it raised ResourceExhausted: 429 Resource has been exhausted (e.g. check quota)..\n",
      "Retrying langchain_google_genai.chat_models._chat_with_retry.<locals>._chat_with_retry in 32.0 seconds as it raised ResourceExhausted: 429 Resource has been exhausted (e.g. check quota)..\n"
     ]
    },
    {
     "name": "stdout",
     "output_type": "stream",
     "text": [
      "\u001b[32;1m\u001b[1;3mAction: sql_db_query\n",
      "Action Input: SELECT AVG(price) FROM laptops WHERE brand = 'HP' AND processor LIKE '%Core i5%'\u001b[0m\u001b[36;1m\u001b[1;3m[(73819.0,)]\u001b[0m\u001b[32;1m\u001b[1;3mFinal Answer: The average price of an HP laptop with a Core i5 processor is ₦73819.0. \n",
      "\u001b[0m\n",
      "\n",
      "\u001b[1m> Finished chain.\u001b[0m\n"
     ]
    },
    {
     "data": {
      "text/plain": [
       "'The average price of an HP laptop with a Core i5 processor is ₦73819.0.'"
      ]
     },
     "execution_count": 12,
     "metadata": {},
     "output_type": "execute_result"
    }
   ],
   "source": [
    "response = sqldb_agent.run(prompt.format(\n",
    "        question=\"What is the average price of hp core i5 processor laptop?\"\n",
    "  ))\n",
    "response"
   ]
  },
  {
   "cell_type": "code",
   "execution_count": null,
   "metadata": {},
   "outputs": [
    {
     "data": {
      "text/markdown": [
       "The average price of an HP laptop with a Core i5 processor is ₦73819.0."
      ],
      "text/plain": [
       "<IPython.core.display.Markdown object>"
      ]
     },
     "execution_count": 13,
     "metadata": {},
     "output_type": "execute_result"
    }
   ],
   "source": [
    "md(response)"
   ]
  }
 ],
 "metadata": {
  "kernelspec": {
   "display_name": ".langchain_env",
   "language": "python",
   "name": "python3"
  },
  "language_info": {
   "codemirror_mode": {
    "name": "ipython",
    "version": 3
   },
   "file_extension": ".py",
   "mimetype": "text/x-python",
   "name": "python",
   "nbconvert_exporter": "python",
   "pygments_lexer": "ipython3",
   "version": "3.10.6"
  }
 },
 "nbformat": 4,
 "nbformat_minor": 2
}
