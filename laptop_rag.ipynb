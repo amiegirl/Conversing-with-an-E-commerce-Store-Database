{
 "cells": [
  {
   "cell_type": "code",
   "execution_count": 28,
   "metadata": {},
   "outputs": [],
   "source": [
    "import streamlit as st\n",
    "from langchain_google_genai import ChatGoogleGenerativeAI\n",
    "from langchain.agents import AgentType, create_sql_agent\n",
    "from langchain.sql_database import SQLDatabase\n",
    "from langchain.agents.agent_toolkits.sql.toolkit import SQLDatabaseToolkit\n",
    "from langchain_core.prompts import PromptTemplate\n",
    "from IPython.display import Markdown as md"
   ]
  },
  {
   "cell_type": "code",
   "execution_count": 36,
   "metadata": {},
   "outputs": [],
   "source": [
    "# Read the API key\n",
    "f = open(\"keys/.gemini_api_key.txt\")\n",
    "key = f.read()"
   ]
  },
  {
   "cell_type": "code",
   "execution_count": 37,
   "metadata": {},
   "outputs": [],
   "source": [
    "chat_model = ChatGoogleGenerativeAI(google_api_key=key, \n",
    "                                   model=\"gemini-1.5-pro-latest\")"
   ]
  },
  {
   "cell_type": "code",
   "execution_count": 38,
   "metadata": {},
   "outputs": [
    {
     "name": "stdout",
     "output_type": "stream",
     "text": [
      "sqlite\n",
      "['laptops']\n"
     ]
    },
    {
     "data": {
      "text/plain": [
       "\"[('HP',), ('Lenovo',), ('ASUS',), ('RedmiBook',), ('acer',), ('Infinix',), ('APPLE',), ('DELL',), ('MSI',), ('SAMSUNG',), ('realme',), ('ALIENWARE',), ('GIGABYTE',), ('Avita',), ('Nokia',), ('Vaio',), ('Mi',), ('LG',), ('Ultimus',)]\""
      ]
     },
     "execution_count": 38,
     "metadata": {},
     "output_type": "execute_result"
    }
   ],
   "source": [
    "# connect to our database\n",
    "db = SQLDatabase.from_uri(\"sqlite:///laptops.db\")\n",
    "print(db.dialect)\n",
    "print(db.get_usable_table_names())\n",
    "db.run(\"SELECT DISTINCT brand FROM laptops;\")"
   ]
  },
  {
   "cell_type": "code",
   "execution_count": 26,
   "metadata": {},
   "outputs": [
    {
     "data": {
      "text/plain": [
       "\"[('SSD',), ('HDD',), ('EMMC',)]\""
      ]
     },
     "execution_count": 26,
     "metadata": {},
     "output_type": "execute_result"
    }
   ],
   "source": [
    "db.run(\"SELECT DISTINCT storage FROM laptops;\")"
   ]
  },
  {
   "cell_type": "code",
   "execution_count": 27,
   "metadata": {},
   "outputs": [
    {
     "data": {
      "text/plain": [
       "\"[('DELL', 1174131)]\""
      ]
     },
     "execution_count": 27,
     "metadata": {},
     "output_type": "execute_result"
    }
   ],
   "source": [
    "db.run(\"SELECT brand, max(price) FROM laptops;\")"
   ]
  },
  {
   "cell_type": "code",
   "execution_count": 40,
   "metadata": {},
   "outputs": [],
   "source": [
    "# set up chat template\n",
    "prompt = PromptTemplate.from_template(\n",
    "    \"\"\"You are a helpful AI assistant expert in querying SQL Database,\n",
    "        The Database has the name laptops\n",
    "        and has the following columns - brand, description, price, RAM(GB), storage,\n",
    "        capacity(GB), processor, warranty(years) and display(inch).\n",
    "        DO NOT make any DML statements (INSERT, UPDATE, DELETE, DROP etc.) to the database.\n",
    "        if a question does not seem related to the database, the response should be,\n",
    "        \"I may not be able to provide information about this topic\"\n",
    "        Given the following user question, generate corresponding SQL query, and SQL result, \n",
    "        and answer the user question. \n",
    "        Question: {question}\n",
    "        Answer: \n",
    "        \"\"\"\n",
    ")"
   ]
  },
  {
   "cell_type": "code",
   "execution_count": 41,
   "metadata": {},
   "outputs": [],
   "source": [
    "sql_toolkit = SQLDatabaseToolkit(db=db, llm=chat_model)\n",
    "sql_toolkit.get_tools()\n",
    "\n",
    "sqldb_agent = create_sql_agent(\n",
    "    llm=chat_model,\n",
    "    toolkit=sql_toolkit,\n",
    "    agent_type=AgentType.ZERO_SHOT_REACT_DESCRIPTION,\n",
    "    verbose=True\n",
    ")"
   ]
  },
  {
   "cell_type": "code",
   "execution_count": 42,
   "metadata": {},
   "outputs": [
    {
     "name": "stdout",
     "output_type": "stream",
     "text": [
      "\n",
      "\n",
      "\u001b[1m> Entering new SQL Agent Executor chain...\u001b[0m\n",
      "\u001b[32;1m\u001b[1;3mThought: I need to find the average price of HP laptops with Core i5 processors. First, I'll list the available tables to make sure I'm querying the correct one.\n",
      "Action: sql_db_list_tables\n",
      "Action Input: \u001b[0m\u001b[38;5;200m\u001b[1;3mlaptops\u001b[0m\u001b[32;1m\u001b[1;3mThought: The 'laptops' table is what we need. Now, I'll check the schema to ensure it has the required columns (brand, price, processor).\n",
      "Action: sql_db_schema\n",
      "Action Input: laptops \u001b[0m\u001b[33;1m\u001b[1;3m\n",
      "CREATE TABLE laptops (\n",
      "\tbrand TEXT, \n",
      "\tdescription TEXT, \n",
      "\tprice INTEGER, \n",
      "\t\"RAM(GB)\" INTEGER, \n",
      "\tstorage TEXT, \n",
      "\t\"capacity(GB)\" INTEGER, \n",
      "\tprocessor TEXT, \n",
      "\t\"warranty(years)\" INTEGER, \n",
      "\t\"display(inch)\" TEXT\n",
      ")\n",
      "\n",
      "/*\n",
      "3 rows from laptops table:\n",
      "brand\tdescription\tprice\tRAM(GB)\tstorage\tcapacity(GB)\tprocessor\twarranty(years)\tdisplay(inch)\n",
      "HP\tHP 14s Intel Core i3 11th Gen - (8 GB/256 GB SSD/Windows 11 Home) 14s - dy2507TU Thin and Light Lapt\t35490\t8\tSSD\t256\tCore i3\t1\t14\n",
      "Lenovo\tLenovo V15 G2 Core i3 11th Gen - (8 GB/512 GB SSD/Windows 11 Home) V15 ITL G2 Laptop\t33999\t8\tSSD\t512\tCore i3\t1\t16\n",
      "HP\tHP 15s Intel Core i3 12th Gen - (8 GB/512 GB SSD/Windows 11 Home) 15s-fq5007TU Thin and Light Laptop\t45490\t8\tSSD\t512\tCore i3\t1\t16\n",
      "*/\u001b[0m\u001b[32;1m\u001b[1;3mThought: The schema looks good. Now, I'll construct the query to select the average price of HP laptops with Core i5 processors.\n",
      "Action: sql_db_query_checker\n",
      "Action Input: SELECT avg(price) FROM laptops WHERE brand = 'HP' AND processor = 'Core i5'\u001b[0m"
     ]
    },
    {
     "name": "stderr",
     "output_type": "stream",
     "text": [
      "Retrying langchain_google_genai.chat_models._chat_with_retry.<locals>._chat_with_retry in 2.0 seconds as it raised ResourceExhausted: 429 Resource has been exhausted (e.g. check quota)..\n",
      "Retrying langchain_google_genai.chat_models._chat_with_retry.<locals>._chat_with_retry in 4.0 seconds as it raised ResourceExhausted: 429 Resource has been exhausted (e.g. check quota)..\n",
      "Retrying langchain_google_genai.chat_models._chat_with_retry.<locals>._chat_with_retry in 8.0 seconds as it raised ResourceExhausted: 429 Resource has been exhausted (e.g. check quota)..\n",
      "Retrying langchain_google_genai.chat_models._chat_with_retry.<locals>._chat_with_retry in 16.0 seconds as it raised ResourceExhausted: 429 Resource has been exhausted (e.g. check quota)..\n",
      "Retrying langchain_google_genai.chat_models._chat_with_retry.<locals>._chat_with_retry in 32.0 seconds as it raised ResourceExhausted: 429 Resource has been exhausted (e.g. check quota)..\n"
     ]
    },
    {
     "name": "stdout",
     "output_type": "stream",
     "text": [
      "\u001b[36;1m\u001b[1;3m```sql\n",
      "SELECT avg(price) FROM laptops WHERE brand = 'HP' AND processor = 'Core i5'\n",
      "```\u001b[0m\u001b[32;1m\u001b[1;3mThe query looks correct. Let's execute it to get the average price.\n",
      "Action: sql_db_query\n",
      "Action Input: SELECT avg(price) FROM laptops WHERE brand = 'HP' AND processor = 'Core i5'\u001b[0m\u001b[36;1m\u001b[1;3m[(73819.0,)]\u001b[0m\u001b[32;1m\u001b[1;3mFinal Answer: The average price of an HP laptop with a Core i5 processor is 73819.0. \n",
      "\u001b[0m\n",
      "\n",
      "\u001b[1m> Finished chain.\u001b[0m\n"
     ]
    },
    {
     "data": {
      "text/plain": [
       "'The average price of an HP laptop with a Core i5 processor is 73819.0.'"
      ]
     },
     "execution_count": 42,
     "metadata": {},
     "output_type": "execute_result"
    }
   ],
   "source": [
    "response = sqldb_agent.run(prompt.format(\n",
    "        question=\"What is the average price of hp core i5 processor laptop?\"\n",
    "  ))\n",
    "response"
   ]
  },
  {
   "cell_type": "code",
   "execution_count": 43,
   "metadata": {},
   "outputs": [
    {
     "data": {
      "text/markdown": [
       "The average price of an HP laptop with a Core i5 processor is 73819.0."
      ],
      "text/plain": [
       "<IPython.core.display.Markdown object>"
      ]
     },
     "execution_count": 43,
     "metadata": {},
     "output_type": "execute_result"
    }
   ],
   "source": [
    "md(response)"
   ]
  },
  {
   "cell_type": "code",
   "execution_count": 34,
   "metadata": {},
   "outputs": [
    {
     "name": "stdout",
     "output_type": "stream",
     "text": [
      "\n",
      "\n",
      "\u001b[1m> Entering new SQL Agent Executor chain...\u001b[0m\n",
      "\u001b[32;1m\u001b[1;3mThought: I need to identify the columns present in the laptops database and formulate a SQL query to retrieve distinct brand names.\n",
      "Action: sql_db_list_tables\n",
      "Action Input: \u001b[0m\u001b[38;5;200m\u001b[1;3mlaptops\u001b[0m\u001b[32;1m\u001b[1;3mAction: sql_db_schema\n",
      "Action Input: laptops \u001b[0m\u001b[33;1m\u001b[1;3m\n",
      "CREATE TABLE laptops (\n",
      "\tbrand TEXT, \n",
      "\tdescription TEXT, \n",
      "\tprice INTEGER, \n",
      "\t\"RAM(GB)\" INTEGER, \n",
      "\tstorage TEXT, \n",
      "\t\"capacity(GB)\" INTEGER, \n",
      "\tprocessor TEXT, \n",
      "\t\"warranty(years)\" INTEGER, \n",
      "\t\"display(inch)\" TEXT\n",
      ")\n",
      "\n",
      "/*\n",
      "3 rows from laptops table:\n",
      "brand\tdescription\tprice\tRAM(GB)\tstorage\tcapacity(GB)\tprocessor\twarranty(years)\tdisplay(inch)\n",
      "HP\tHP 14s Intel Core i3 11th Gen - (8 GB/256 GB SSD/Windows 11 Home) 14s - dy2507TU Thin and Light Lapt\t35490\t8\tSSD\t256\tCore i3\t1\t14\n",
      "Lenovo\tLenovo V15 G2 Core i3 11th Gen - (8 GB/512 GB SSD/Windows 11 Home) V15 ITL G2 Laptop\t33999\t8\tSSD\t512\tCore i3\t1\t16\n",
      "HP\tHP 15s Intel Core i3 12th Gen - (8 GB/512 GB SSD/Windows 11 Home) 15s-fq5007TU Thin and Light Laptop\t45490\t8\tSSD\t512\tCore i3\t1\t16\n",
      "*/\u001b[0m\u001b[32;1m\u001b[1;3mThought: Now, I need to construct the SQL query to fetch the distinct brand names.\n",
      "Action: sql_db_query_checker\n",
      "Action Input: SELECT DISTINCT brand FROM laptops;\u001b[0m"
     ]
    },
    {
     "name": "stderr",
     "output_type": "stream",
     "text": [
      "Retrying langchain_google_genai.chat_models._chat_with_retry.<locals>._chat_with_retry in 2.0 seconds as it raised ResourceExhausted: 429 Resource has been exhausted (e.g. check quota)..\n"
     ]
    },
    {
     "name": "stdout",
     "output_type": "stream",
     "text": [
      "\u001b[36;1m\u001b[1;3m```sql\n",
      "SELECT DISTINCT brand FROM laptops;\n",
      "```\u001b[0m"
     ]
    },
    {
     "name": "stderr",
     "output_type": "stream",
     "text": [
      "Retrying langchain_google_genai.chat_models._chat_with_retry.<locals>._chat_with_retry in 2.0 seconds as it raised ResourceExhausted: 429 Resource has been exhausted (e.g. check quota)..\n",
      "Retrying langchain_google_genai.chat_models._chat_with_retry.<locals>._chat_with_retry in 4.0 seconds as it raised ResourceExhausted: 429 Resource has been exhausted (e.g. check quota)..\n",
      "Retrying langchain_google_genai.chat_models._chat_with_retry.<locals>._chat_with_retry in 8.0 seconds as it raised ResourceExhausted: 429 Resource has been exhausted (e.g. check quota)..\n",
      "Retrying langchain_google_genai.chat_models._chat_with_retry.<locals>._chat_with_retry in 16.0 seconds as it raised ResourceExhausted: 429 Resource has been exhausted (e.g. check quota)..\n",
      "Retrying langchain_google_genai.chat_models._chat_with_retry.<locals>._chat_with_retry in 32.0 seconds as it raised ResourceExhausted: 429 Resource has been exhausted (e.g. check quota)..\n"
     ]
    },
    {
     "name": "stdout",
     "output_type": "stream",
     "text": [
      "\u001b[32;1m\u001b[1;3mAction: sql_db_query\n",
      "Action Input: SELECT DISTINCT brand FROM laptops;\u001b[0m\u001b[36;1m\u001b[1;3m[('HP',), ('Lenovo',), ('ASUS',), ('RedmiBook',), ('acer',), ('Infinix',), ('APPLE',), ('DELL',), ('MSI',), ('SAMSUNG',), ('realme',), ('ALIENWARE',), ('GIGABYTE',), ('Avita',), ('Nokia',), ('Vaio',), ('Mi',), ('LG',), ('Ultimus',)]\u001b[0m\u001b[32;1m\u001b[1;3mFinal Answer: The available laptop brands are: HP, Lenovo, ASUS, RedmiBook, acer, Infinix, APPLE, DELL, MSI, SAMSUNG, realme, ALIENWARE, GIGABYTE, Avita, Nokia, Vaio, Mi, LG, and Ultimus. \n",
      "\u001b[0m\n",
      "\n",
      "\u001b[1m> Finished chain.\u001b[0m\n"
     ]
    },
    {
     "data": {
      "text/plain": [
       "'The available laptop brands are: HP, Lenovo, ASUS, RedmiBook, acer, Infinix, APPLE, DELL, MSI, SAMSUNG, realme, ALIENWARE, GIGABYTE, Avita, Nokia, Vaio, Mi, LG, and Ultimus.'"
      ]
     },
     "execution_count": 34,
     "metadata": {},
     "output_type": "execute_result"
    }
   ],
   "source": [
    "response = sqldb_agent.run(prompt.format(\n",
    "        question=\"what are the available brands?\"\n",
    "  ))\n",
    "response"
   ]
  },
  {
   "cell_type": "code",
   "execution_count": 35,
   "metadata": {},
   "outputs": [
    {
     "data": {
      "text/markdown": [
       "The available laptop brands are: HP, Lenovo, ASUS, RedmiBook, acer, Infinix, APPLE, DELL, MSI, SAMSUNG, realme, ALIENWARE, GIGABYTE, Avita, Nokia, Vaio, Mi, LG, and Ultimus."
      ],
      "text/plain": [
       "<IPython.core.display.Markdown object>"
      ]
     },
     "execution_count": 35,
     "metadata": {},
     "output_type": "execute_result"
    }
   ],
   "source": [
    "md(response)"
   ]
  }
 ],
 "metadata": {
  "kernelspec": {
   "display_name": ".langchain_env",
   "language": "python",
   "name": "python3"
  },
  "language_info": {
   "codemirror_mode": {
    "name": "ipython",
    "version": 3
   },
   "file_extension": ".py",
   "mimetype": "text/x-python",
   "name": "python",
   "nbconvert_exporter": "python",
   "pygments_lexer": "ipython3",
   "version": "3.10.6"
  }
 },
 "nbformat": 4,
 "nbformat_minor": 2
}
